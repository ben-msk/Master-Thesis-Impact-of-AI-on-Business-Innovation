{
 "cells": [
  {
   "cell_type": "code",
   "execution_count": null,
   "metadata": {},
   "outputs": [],
   "source": [
    "import pandas as pd\n",
    "import re\n",
    "from scipy import stats\n"
   ]
  },
  {
   "cell_type": "code",
   "execution_count": null,
   "metadata": {},
   "outputs": [],
   "source": [
    "# Import data set from qualtrics\n",
    "df_pretest = pd.read_excel(\"XXXX/Results of Pre-Test.xlsx\", skiprows=1)\n",
    "\n",
    "# Correct the column name due to typo\n",
    "df_pretest.rename(columns={'Task1_PerceivedPerfomance': 'Task1_PerceivedPerformance'}, inplace=True)\n",
    "\n",
    "display(df_pretest)"
   ]
  },
  {
   "cell_type": "code",
   "execution_count": null,
   "metadata": {},
   "outputs": [],
   "source": [
    "# Define input variables\n",
    "measures = ['IdeaCount', 'Clarity', 'Comprehensibility', 'Engagement', 'Enjoyment', 'Challenging', 'PerceivedPerformance', 'Effort', 'MentalEffort']\n",
    "tasks = ['Task1', 'Task2', 'Task3']\n",
    "rows = []\n",
    "\n",
    "# Run loop to cmompute mean and SD for every task/measure\n",
    "for task in tasks:\n",
    "    row = {'Task': task}\n",
    "    for measure in measures:\n",
    "        col_name = f\"{task}_{measure}\"\n",
    "        if col_name in df_pretest.columns:\n",
    "            row[f'{measure}_Mean'] = df_pretest[col_name].mean()\n",
    "            row[f'{measure}_SD'] = df_pretest[col_name].std()\n",
    "    rows.append(row)\n",
    "\n",
    "# Summarize data in a single dataframe\n",
    "task_evaluation = pd.DataFrame(rows)\n",
    "\n",
    "print(task_evaluation)\n",
    "\n"
   ]
  },
  {
   "cell_type": "code",
   "execution_count": null,
   "metadata": {},
   "outputs": [],
   "source": [
    "# Compute ANOVA to validate difference between groups\n",
    "for measure in measures:\n",
    "    task1 = df_pretest[f'Task1_{measure}'].dropna()\n",
    "    task2 = df_pretest[f'Task2_{measure}'].dropna()\n",
    "    task3 = df_pretest[f'Task3_{measure}'].dropna()\n",
    "\n",
    "    # ANOVA\n",
    "    f_stat, p_value = stats.f_oneway(task1, task2, task3)\n",
    "\n",
    "    print(f\"ANOVA for {measure}: F = {f_stat:.3f}, p = {p_value:.5f}\")\n"
   ]
  },
  {
   "cell_type": "code",
   "execution_count": null,
   "metadata": {},
   "outputs": [],
   "source": []
  }
 ],
 "metadata": {
  "kernelspec": {
   "display_name": "Python 3",
   "language": "python",
   "name": "python3"
  },
  "language_info": {
   "codemirror_mode": {
    "name": "ipython",
    "version": 3
   },
   "file_extension": ".py",
   "mimetype": "text/x-python",
   "name": "python",
   "nbconvert_exporter": "python",
   "pygments_lexer": "ipython3",
   "version": "3.9.6"
  }
 },
 "nbformat": 4,
 "nbformat_minor": 2
}
