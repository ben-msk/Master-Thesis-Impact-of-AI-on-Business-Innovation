{
 "cells": [
  {
   "cell_type": "code",
   "execution_count": 3,
   "metadata": {},
   "outputs": [],
   "source": [
    "import random\n",
    "import time\n",
    "import csv\n",
    "\n",
    "from selenium import webdriver\n",
    "from selenium.webdriver.common.by import By\n",
    "from selenium.webdriver.chrome.options import Options\n",
    "from selenium.webdriver.chrome.service import Service\n",
    "from webdriver_manager.chrome import ChromeDriverManager"
   ]
  },
  {
   "cell_type": "code",
   "execution_count": null,
   "metadata": {},
   "outputs": [
    {
     "name": "stdout",
     "output_type": "stream",
     "text": [
      "Total unique product rows found: 1268\n"
     ]
    }
   ],
   "source": [
    "# As the datatable is not stored as HTML content, Selenium is used to read JSON format\n",
    "\n",
    "def scrape_sharktanklab_selenium(num_pages=43, output_csv=\"XXXXX/sharktanklab_data.csv\"):\n",
    "    \n",
    "    # Rotating User-Agent settings\n",
    "    user_agents = [\n",
    "        \"Mozilla/5.0 (Windows NT 10.0; Win64; x64) AppleWebKit/537.36 (KHTML, like Gecko) Chrome/120.0.0.0 Safari/537.36\",\n",
    "        \"Mozilla/5.0 (Macintosh; Intel Mac OS X 10_15_7) AppleWebKit/537.36 (KHTML, like Gecko) Chrome/120.0.0.0 Safari/537.36\",\n",
    "        \"Mozilla/5.0 (X11; Linux x86_64) AppleWebKit/537.36 (KHTML, like Gecko) Chrome/120.0.0.0 Safari/537.36\"\n",
    "    ]\n",
    "    random_ua = random.choice(user_agents)\n",
    "\n",
    "    # Configure Chrome options\n",
    "    chrome_options = Options()\n",
    "    chrome_options.add_argument(f\"--user-agent={random_ua}\")\n",
    "    chrome_options.add_argument(\"--headless\")\n",
    "    service = Service(ChromeDriverManager().install())\n",
    "    driver = webdriver.Chrome(service=service, options=chrome_options)\n",
    "\n",
    "    # Create empty object to store data\n",
    "    all_rows = []\n",
    "\n",
    "    # Loop over the different webpages loading all pages of the table\n",
    "    for page_num in range(1, num_pages + 1):\n",
    "        url = f\"https://sharktanklab.com/database/?current_page={page_num}\"\n",
    "        driver.get(url)\n",
    "        time.sleep(3)\n",
    "\n",
    "        try:\n",
    "            table = driver.find_element(By.CLASS_NAME, 'table')\n",
    "            rows = table.find_elements(By.TAG_NAME, 'tr')\n",
    "            for row in rows:\n",
    "                cells = row.find_elements(By.TAG_NAME, 'td')\n",
    "                cell_text = [cell.text.strip() for cell in cells]\n",
    "                if cell_text:\n",
    "                    all_rows.append(cell_text)\n",
    "\n",
    "        except Exception as e:\n",
    "            print(f\"Could not find table on page {page_num}. Error: {e}\")\n",
    "    driver.quit()\n",
    "\n",
    "    # Copy the column names from the datatable to create csv\n",
    "    headers = [\n",
    "        \"Product\",\n",
    "        \"Location\",\n",
    "        \"Category\",\n",
    "        \"Season\",\n",
    "        \"Deal Y/N\",\n",
    "        \"Sharks\",\n",
    "        \"Asking Amount\",\n",
    "        \"% Equity (Asking)\",\n",
    "        \"Invested Amount\",\n",
    "        \"% Equity (Deal)\",\n",
    "        \"Deal Type\"\n",
    "    ]\n",
    "\n",
    "    # Create the csv file\n",
    "    with open(output_csv, 'w', newline='', encoding='utf-8') as f:\n",
    "        writer = csv.writer(f)\n",
    "        writer.writerow(headers)   \n",
    "        writer.writerows(all_rows)\n",
    "\n",
    "    count = len(all_rows)\n",
    "    print(\"Total unique product rows found:\", count)\n",
    "\n",
    "if __name__ == \"__main__\":\n",
    "    scrape_sharktanklab_selenium()"
   ]
  },
  {
   "cell_type": "code",
   "execution_count": null,
   "metadata": {},
   "outputs": [],
   "source": []
  }
 ],
 "metadata": {
  "kernelspec": {
   "display_name": "Python 3",
   "language": "python",
   "name": "python3"
  },
  "language_info": {
   "codemirror_mode": {
    "name": "ipython",
    "version": 3
   },
   "file_extension": ".py",
   "mimetype": "text/x-python",
   "name": "python",
   "nbconvert_exporter": "python",
   "pygments_lexer": "ipython3",
   "version": "3.9.6"
  }
 },
 "nbformat": 4,
 "nbformat_minor": 2
}
